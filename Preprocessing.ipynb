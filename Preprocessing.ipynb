{
  "nbformat": 4,
  "nbformat_minor": 0,
  "metadata": {
    "colab": {
      "name": "Preprocessing.ipynb",
      "provenance": [],
      "authorship_tag": "ABX9TyPKPlaZ3PgQXEZN4lg6VbED",
      "include_colab_link": true
    },
    "kernelspec": {
      "name": "python3",
      "display_name": "Python 3"
    },
    "language_info": {
      "name": "python"
    }
  },
  "cells": [
    {
      "cell_type": "markdown",
      "metadata": {
        "id": "view-in-github",
        "colab_type": "text"
      },
      "source": [
        "<a href=\"https://colab.research.google.com/github/dwiardiyana/DATAMINING/blob/main/Preprocessing.ipynb\" target=\"_parent\"><img src=\"https://colab.research.google.com/assets/colab-badge.svg\" alt=\"Open In Colab\"/></a>"
      ]
    },
    {
      "cell_type": "code",
      "metadata": {
        "id": "wTVVYQqmRQjW"
      },
      "source": [
        "import numpy as np\n",
        "import matplotlib.pyplot as plt\n",
        "import pandas as pd\n",
        "import chardet"
      ],
      "execution_count": 1,
      "outputs": []
    },
    {
      "cell_type": "code",
      "metadata": {
        "colab": {
          "base_uri": "https://localhost:8080/"
        },
        "id": "kBiTR_G6ReTy",
        "outputId": "cfe752bd-3abc-4345-cfa7-83ab35b8f345"
      },
      "source": [
        "dataset = pd.read_csv('DataMotor.csv')\n",
        "x = dataset.iloc[:, :-1].values\n",
        "y = dataset.iloc[:, -1].values\n",
        "print(x)\n",
        "print(y)"
      ],
      "execution_count": 3,
      "outputs": [
        {
          "output_type": "stream",
          "text": [
            "[['Beat' nan 16000.0]\n",
            " ['Vario' 18.0 19000.0]\n",
            " ['N-max' 20.0 32000.0]\n",
            " ['Pcx' 21.0 33000.0]\n",
            " ['vixion' 16.0 27000.0]\n",
            " ['GSX 150' 18.0 nan]\n",
            " ['CBR150' nan 34000.0]\n",
            " ['Supra X' 15.0 15000.0]]\n",
            "['No' 'Yes' 'Yes' 'Yes' 'No' 'Yes' 'No' 'Yes']\n"
          ],
          "name": "stdout"
        }
      ]
    },
    {
      "cell_type": "code",
      "metadata": {
        "colab": {
          "base_uri": "https://localhost:8080/"
        },
        "id": "rPB6_y0CRjp0",
        "outputId": "e0ee60b5-c834-49d8-905f-808a880765ab"
      },
      "source": [
        "print(x)"
      ],
      "execution_count": 4,
      "outputs": [
        {
          "output_type": "stream",
          "text": [
            "[['Beat' nan 16000.0]\n",
            " ['Vario' 18.0 19000.0]\n",
            " ['N-max' 20.0 32000.0]\n",
            " ['Pcx' 21.0 33000.0]\n",
            " ['vixion' 16.0 27000.0]\n",
            " ['GSX 150' 18.0 nan]\n",
            " ['CBR150' nan 34000.0]\n",
            " ['Supra X' 15.0 15000.0]]\n"
          ],
          "name": "stdout"
        }
      ]
    },
    {
      "cell_type": "code",
      "metadata": {
        "colab": {
          "base_uri": "https://localhost:8080/"
        },
        "id": "TyPOMehqRm4j",
        "outputId": "f26e61d1-5b51-4914-d62c-eb1a309139d1"
      },
      "source": [
        "print(y)"
      ],
      "execution_count": 5,
      "outputs": [
        {
          "output_type": "stream",
          "text": [
            "['No' 'Yes' 'Yes' 'Yes' 'No' 'Yes' 'No' 'Yes']\n"
          ],
          "name": "stdout"
        }
      ]
    },
    {
      "cell_type": "code",
      "metadata": {
        "id": "CDu0jD_PRrxA"
      },
      "source": [
        "from sklearn.impute import SimpleImputer\n",
        "imputer = SimpleImputer(missing_values=np.nan, strategy='mean')\n",
        "imputer.fit(x[:, 1:3])\n",
        "x[:, 1:3] = imputer.transform(x[:, 1:3])"
      ],
      "execution_count": 6,
      "outputs": []
    },
    {
      "cell_type": "code",
      "metadata": {
        "colab": {
          "base_uri": "https://localhost:8080/"
        },
        "id": "opO7CKOZRuju",
        "outputId": "5a7049c6-b261-4275-c820-95940d171c8f"
      },
      "source": [
        "print(x)"
      ],
      "execution_count": 7,
      "outputs": [
        {
          "output_type": "stream",
          "text": [
            "[['Beat' 18.0 16000.0]\n",
            " ['Vario' 18.0 19000.0]\n",
            " ['N-max' 20.0 32000.0]\n",
            " ['Pcx' 21.0 33000.0]\n",
            " ['vixion' 16.0 27000.0]\n",
            " ['GSX 150' 18.0 25142.85714285714]\n",
            " ['CBR150' 18.0 34000.0]\n",
            " ['Supra X' 15.0 15000.0]]\n"
          ],
          "name": "stdout"
        }
      ]
    },
    {
      "cell_type": "code",
      "metadata": {
        "id": "33XcBYO5SG6m"
      },
      "source": [
        "from sklearn.compose import ColumnTransformer \n",
        "from sklearn.preprocessing import OneHotEncoder\n",
        "ct =  ColumnTransformer(transformers=[('encoder', OneHotEncoder(), [0])], remainder='passthrough')\n",
        "x = np.array(ct.fit_transform(x))"
      ],
      "execution_count": 8,
      "outputs": []
    },
    {
      "cell_type": "code",
      "metadata": {
        "colab": {
          "base_uri": "https://localhost:8080/"
        },
        "id": "053muTgpSJSy",
        "outputId": "0fb1e225-1e58-41b0-b4cc-63258ed6101c"
      },
      "source": [
        "print(x)"
      ],
      "execution_count": 9,
      "outputs": [
        {
          "output_type": "stream",
          "text": [
            "[[1.0 0.0 0.0 0.0 0.0 0.0 0.0 0.0 18.0 16000.0]\n",
            " [0.0 0.0 0.0 0.0 0.0 0.0 1.0 0.0 18.0 19000.0]\n",
            " [0.0 0.0 0.0 1.0 0.0 0.0 0.0 0.0 20.0 32000.0]\n",
            " [0.0 0.0 0.0 0.0 1.0 0.0 0.0 0.0 21.0 33000.0]\n",
            " [0.0 0.0 0.0 0.0 0.0 0.0 0.0 1.0 16.0 27000.0]\n",
            " [0.0 0.0 1.0 0.0 0.0 0.0 0.0 0.0 18.0 25142.85714285714]\n",
            " [0.0 1.0 0.0 0.0 0.0 0.0 0.0 0.0 18.0 34000.0]\n",
            " [0.0 0.0 0.0 0.0 0.0 1.0 0.0 0.0 15.0 15000.0]]\n"
          ],
          "name": "stdout"
        }
      ]
    },
    {
      "cell_type": "code",
      "metadata": {
        "id": "xWJQN0GcSQqn"
      },
      "source": [
        "from sklearn.preprocessing import LabelEncoder\n",
        "le = LabelEncoder()\n",
        "y = le.fit_transform(y)"
      ],
      "execution_count": 10,
      "outputs": []
    },
    {
      "cell_type": "code",
      "metadata": {
        "colab": {
          "base_uri": "https://localhost:8080/"
        },
        "id": "KAMRHWAtSSof",
        "outputId": "194a1ea7-76f9-425c-afe4-4e4bae244224"
      },
      "source": [
        "print(y)"
      ],
      "execution_count": 11,
      "outputs": [
        {
          "output_type": "stream",
          "text": [
            "[0 1 1 1 0 1 0 1]\n"
          ],
          "name": "stdout"
        }
      ]
    },
    {
      "cell_type": "code",
      "metadata": {
        "id": "GcmIrJCSSXAI"
      },
      "source": [
        "from sklearn.model_selection import train_test_split\n",
        "x_train, x_test, y_train, y_test = train_test_split( x,y, test_size=0.2, random_state=1)"
      ],
      "execution_count": 14,
      "outputs": []
    },
    {
      "cell_type": "code",
      "metadata": {
        "colab": {
          "base_uri": "https://localhost:8080/"
        },
        "id": "yB8vORrESZWM",
        "outputId": "848d5678-70b8-437b-8876-9ea0a5e6a3ac"
      },
      "source": [
        "print(x_train)"
      ],
      "execution_count": 15,
      "outputs": [
        {
          "output_type": "stream",
          "text": [
            "[[0.0 0.0 0.0 0.0 0.0 0.0 1.0 0.0 18.0 19000.0]\n",
            " [0.0 1.0 0.0 0.0 0.0 0.0 0.0 0.0 18.0 34000.0]\n",
            " [1.0 0.0 0.0 0.0 0.0 0.0 0.0 0.0 18.0 16000.0]\n",
            " [0.0 0.0 0.0 0.0 0.0 0.0 0.0 1.0 16.0 27000.0]\n",
            " [0.0 0.0 0.0 0.0 1.0 0.0 0.0 0.0 21.0 33000.0]\n",
            " [0.0 0.0 1.0 0.0 0.0 0.0 0.0 0.0 18.0 25142.85714285714]]\n"
          ],
          "name": "stdout"
        }
      ]
    },
    {
      "cell_type": "code",
      "metadata": {
        "colab": {
          "base_uri": "https://localhost:8080/"
        },
        "id": "Ob97HKN8SdRY",
        "outputId": "ea67ac3e-9b12-4dff-c07f-e450c46a8c80"
      },
      "source": [
        "print(x_test)"
      ],
      "execution_count": 16,
      "outputs": [
        {
          "output_type": "stream",
          "text": [
            "[[0.0 0.0 0.0 0.0 0.0 1.0 0.0 0.0 15.0 15000.0]\n",
            " [0.0 0.0 0.0 1.0 0.0 0.0 0.0 0.0 20.0 32000.0]]\n"
          ],
          "name": "stdout"
        }
      ]
    },
    {
      "cell_type": "code",
      "metadata": {
        "colab": {
          "base_uri": "https://localhost:8080/"
        },
        "id": "eltUNaZqSfvF",
        "outputId": "5d6d107f-d174-46a2-bd0a-192512977a1d"
      },
      "source": [
        "print(y_train)"
      ],
      "execution_count": 17,
      "outputs": [
        {
          "output_type": "stream",
          "text": [
            "[1 0 0 0 1 1]\n"
          ],
          "name": "stdout"
        }
      ]
    },
    {
      "cell_type": "code",
      "metadata": {
        "colab": {
          "base_uri": "https://localhost:8080/"
        },
        "id": "OeItyVIuSjIp",
        "outputId": "834f4538-2f9a-46e3-f75d-8721a2f2d48e"
      },
      "source": [
        "print(y_test)"
      ],
      "execution_count": 18,
      "outputs": [
        {
          "output_type": "stream",
          "text": [
            "[1 1]\n"
          ],
          "name": "stdout"
        }
      ]
    },
    {
      "cell_type": "code",
      "metadata": {
        "id": "3076p7GXSmfm"
      },
      "source": [
        "from sklearn.preprocessing import StandardScaler\n",
        "sc = StandardScaler()\n",
        "x_train[:, 3:] = sc.fit_transform(x_train[:, 3:])\n",
        "x_test[:, 3:] = sc.transform(x_test[:, 3:])"
      ],
      "execution_count": 19,
      "outputs": []
    },
    {
      "cell_type": "code",
      "metadata": {
        "colab": {
          "base_uri": "https://localhost:8080/"
        },
        "id": "GyEH5dLxSoja",
        "outputId": "c6e681ac-5251-41eb-f22b-b92a1da06a46"
      },
      "source": [
        "print(x_train)"
      ],
      "execution_count": 20,
      "outputs": [
        {
          "output_type": "stream",
          "text": [
            "[[0.0 0.0 0.0 0.0 -0.4472135954999579 0.0 2.2360679774997894\n",
            "  -0.44721359549995787 -0.11396057645963874 -1.010235970836946]\n",
            " [0.0 1.0 0.0 0.0 -0.4472135954999579 0.0 -0.44721359549995787\n",
            "  -0.44721359549995787 -0.11396057645963874 1.2547058854878805]\n",
            " [1.0 0.0 0.0 0.0 -0.4472135954999579 0.0 -0.44721359549995787\n",
            "  -0.44721359549995787 -0.11396057645963874 -1.4632243421019113]\n",
            " [0.0 0.0 0.0 0.0 -0.4472135954999579 0.0 -0.44721359549995787\n",
            "  2.2360679774997894 -1.481487493975294 0.19773301920296155]\n",
            " [0.0 0.0 0.0 0.0 2.23606797749979 0.0 -0.44721359549995787\n",
            "  -0.44721359549995787 1.937329799813844 1.1037097617328921]\n",
            " [0.0 0.0 1.0 0.0 -0.4472135954999579 0.0 -0.44721359549995787\n",
            "  -0.44721359549995787 -0.11396057645963874 -0.08268835348487436]]\n"
          ],
          "name": "stdout"
        }
      ]
    },
    {
      "cell_type": "code",
      "metadata": {
        "colab": {
          "base_uri": "https://localhost:8080/"
        },
        "id": "FFi3SQacSq5O",
        "outputId": "6660a139-5d5f-42b1-ec87-6dd169402b2e"
      },
      "source": [
        "print(x_test)"
      ],
      "execution_count": 21,
      "outputs": [
        {
          "output_type": "stream",
          "text": [
            "[[0.0 0.0 0.0 0.0 -0.4472135954999579 1.0 -0.44721359549995787\n",
            "  -0.44721359549995787 -2.1652509527331216 -1.6142204658568997]\n",
            " [0.0 0.0 0.0 1.0 -0.4472135954999579 0.0 -0.44721359549995787\n",
            "  -0.44721359549995787 1.2535663410560165 0.9527136379779038]]\n"
          ],
          "name": "stdout"
        }
      ]
    }
  ]
}
